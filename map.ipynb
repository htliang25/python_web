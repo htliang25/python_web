{
 "cells": [
  {
   "cell_type": "code",
   "execution_count": null,
   "metadata": {},
   "outputs": [],
   "source": [
    "import folium\n",
    "import pandas as pd\n",
    "import time\n",
    "\n",
    "def avg(arr):\n",
    "    a = 0\n",
    "    for i in range(len(arr)):\n",
    "        a += arr[i]\n",
    "    return a / len(arr)\n",
    "\n",
    "data = pd.read_csv(\"AA00002.csv\")\n",
    "array = data.values\n",
    "lat = array[:,4]#纬度\n",
    "lng = array[:,3]#经度\n",
    "Z = array[:,5]#点火\n",
    "t = array[:,10]#时间\n",
    "m_t = []\n",
    "\n",
    "for i in t:\n",
    "    m_t.append(int(time.mktime(time.strptime(i, \"%Y-%m-%d %H:%M:%S\"))))\n",
    "    \n",
    "m = folium.Map([avg(lat), avg(lng)], zoom_start = 10)\n",
    "\n",
    "#原图\n",
    "location = list(zip(lat, lng))\n",
    "\n",
    "for i in range(len(Z) - 1):\n",
    "    if Z[i + 1] == 1 and Z[i] == 0 and m_t[i + 1] - m_t[i] >= 3600:\n",
    "        print(i)\n",
    "\n",
    "route = folium.PolyLine(    #polyline方法为将坐标用线段形式连接起来\n",
    "    location,    #将坐标点连接起来\n",
    "    weight=3,  #线的大小为3\n",
    "    color='green',  #线的颜色为绿色\n",
    "    opacity=0.8    #线的透明度\n",
    ").add_to(m)    #将这条线添加到刚才的区域m内\n",
    "\n",
    "m"
   ]
  }
 ],
 "metadata": {
  "kernelspec": {
   "display_name": "Python 3",
   "language": "python",
   "name": "python3"
  },
  "language_info": {
   "codemirror_mode": {
    "name": "ipython",
    "version": 3
   },
   "file_extension": ".py",
   "mimetype": "text/x-python",
   "name": "python",
   "nbconvert_exporter": "python",
   "pygments_lexer": "ipython3",
   "version": "3.7.3"
  }
 },
 "nbformat": 4,
 "nbformat_minor": 2
}
